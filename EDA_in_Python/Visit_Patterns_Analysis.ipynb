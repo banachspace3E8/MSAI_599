{
 "cells": [
  {
   "cell_type": "code",
   "execution_count": null,
   "id": "9b1a34d2-c93d-4c60-bc1e-f807a9ab77c3",
   "metadata": {},
   "outputs": [],
   "source": [
    "# Shishir Khanal\n",
    "# 06-01-2025\n",
    "# Data analysis for Visit and Operational Patterns"
   ]
  },
  {
   "cell_type": "code",
   "execution_count": 12,
   "id": "d701c1bf-01db-4bee-ba47-9642cdde8178",
   "metadata": {},
   "outputs": [
    {
     "name": "stdout",
     "output_type": "stream",
     "text": [
      "Path to dataset files: /home/shishir/.cache/kagglehub/datasets/rabieelkharoua/predict-restaurant-customer-satisfaction-dataset/versions/1\n"
     ]
    }
   ],
   "source": [
    "#pip install kagglehub\n",
    "#One time run\n",
    "import kagglehub\n",
    "\n",
    "# Download latest version (code obtained from: https://www.kaggle.com/datasets/rabieelkharoua/predict-restaurant-customer-satisfaction-dataset?resource=download)\n",
    "path = kagglehub.dataset_download(\"rabieelkharoua/predict-restaurant-customer-satisfaction-dataset\")\n",
    "print(\"Path to dataset files:\", path)\n"
   ]
  },
  {
   "cell_type": "code",
   "execution_count": 13,
   "id": "01febbcc-634a-40ae-88da-87c0d5b16865",
   "metadata": {},
   "outputs": [],
   "source": [
    "import pandas as pd\n",
    "import os\n",
    "\n",
    "full_path = os.path.join(path, \"restaurant_customer_satisfaction.csv\")\n",
    "df = pd.read_csv(full_path)"
   ]
  },
  {
   "cell_type": "code",
   "execution_count": 14,
   "id": "b1cb7bf2-e5ca-4a89-91db-ef02854282bf",
   "metadata": {},
   "outputs": [
    {
     "data": {
      "text/plain": [
       "TimeOfVisit\n",
       "Breakfast    103.173853\n",
       "Dinner       105.562645\n",
       "Lunch        108.258396\n",
       "Name: AverageSpend, dtype: float64"
      ]
     },
     "execution_count": 14,
     "metadata": {},
     "output_type": "execute_result"
    }
   ],
   "source": [
    "df.groupby('TimeOfVisit')['AverageSpend'].mean()"
   ]
  },
  {
   "cell_type": "code",
   "execution_count": 15,
   "id": "623edf7c-3377-4f48-9935-695f098eb327",
   "metadata": {},
   "outputs": [
    {
     "data": {
      "text/plain": [
       "OnlineReservation\n",
       "0    30.292490\n",
       "1    29.857861\n",
       "Name: WaitTime, dtype: float64"
      ]
     },
     "execution_count": 15,
     "metadata": {},
     "output_type": "execute_result"
    }
   ],
   "source": [
    "df.groupby('OnlineReservation')['WaitTime'].mean()"
   ]
  },
  {
   "cell_type": "code",
   "execution_count": 36,
   "id": "95a8d9cb-190b-4a44-b5e9-d760aec2811e",
   "metadata": {},
   "outputs": [
    {
     "name": "stdout",
     "output_type": "stream",
     "text": [
      "MealType        Dine-in  Takeaway\n",
      "DiningOccasion                   \n",
      "Business            258       242\n",
      "Casual              239       242\n",
      "Celebration         254       265\n",
      "Chi-square statistic: 0.76118636037052\n",
      "P-value: 0.6834558764638335\n",
      "Dof: 2\n",
      "Effect size: 0.022526818984942073\n"
     ]
    }
   ],
   "source": [
    "#Comparison of Dining Occasion and Meal type\n",
    "\n",
    "from scipy.stats import chi2_contingency\n",
    "import numpy as np\n",
    "\n",
    "crosstab = pd.crosstab(df['DiningOccasion'], df['MealType'])\n",
    "print(crosstab)\n",
    "\n",
    "chi2, p_value, dof, expected = chi2_contingency(crosstab)\n",
    "\n",
    "n = len(df)\n",
    "rows, cols = crosstab.shape\n",
    "#Cramers V\n",
    "effect_size = np.sqrt(chi2 / (n * min(rows-1, cols-1)))\n",
    "\n",
    "print(f\"Chi-square statistic: {chi2}\")\n",
    "print(f\"P-value: {p_value}\")\n",
    "print(f\"Dof: {dof}\")\n",
    "print(f\"Effect size: {effect_size}\")"
   ]
  },
  {
   "cell_type": "code",
   "execution_count": 37,
   "id": "c121491d-4c50-4ccc-93cf-fb1afc6873ac",
   "metadata": {},
   "outputs": [
    {
     "name": "stdout",
     "output_type": "stream",
     "text": [
      "VisitFrequency  Daily  Monthly  Rarely  Weekly\n",
      "DeliveryOrder                                 \n",
      "0                  84      247     194     367\n",
      "1                  69      181     119     239\n",
      "Chi-square statistic: 2.9923068551534335\n",
      "P-value: 0.39281282937655904\n",
      "Dof: 3\n",
      "Effect size: 0.04466398142540537\n"
     ]
    }
   ],
   "source": [
    "#Comparison of Delivery Order and Visit Frequency\n",
    "\n",
    "from scipy.stats import chi2_contingency\n",
    "import numpy as np\n",
    "\n",
    "crosstab = pd.crosstab(df['DeliveryOrder'], df['VisitFrequency'])\n",
    "print(crosstab)\n",
    "\n",
    "chi2, p_value, dof, expected = chi2_contingency(crosstab)\n",
    "\n",
    "n = len(df)\n",
    "rows, cols = crosstab.shape\n",
    "#Cramers V\n",
    "effect_size = np.sqrt(chi2 / (n * min(rows-1, cols-1)))\n",
    "\n",
    "print(f\"Chi-square statistic: {chi2}\")\n",
    "print(f\"P-value: {p_value}\")\n",
    "print(f\"Dof: {dof}\")\n",
    "print(f\"Effect size: {effect_size}\")"
   ]
  },
  {
   "cell_type": "code",
   "execution_count": null,
   "id": "89a53f46-9850-40ca-9a4b-c04c67fe2459",
   "metadata": {},
   "outputs": [],
   "source": []
  }
 ],
 "metadata": {
  "kernelspec": {
   "display_name": "Python [conda env:base] *",
   "language": "python",
   "name": "conda-base-py"
  },
  "language_info": {
   "codemirror_mode": {
    "name": "ipython",
    "version": 3
   },
   "file_extension": ".py",
   "mimetype": "text/x-python",
   "name": "python",
   "nbconvert_exporter": "python",
   "pygments_lexer": "ipython3",
   "version": "3.12.7"
  }
 },
 "nbformat": 4,
 "nbformat_minor": 5
}
