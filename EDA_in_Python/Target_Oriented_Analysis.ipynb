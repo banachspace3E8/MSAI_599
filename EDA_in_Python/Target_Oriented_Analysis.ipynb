{
 "cells": [
  {
   "cell_type": "code",
   "execution_count": null,
   "id": "8101e5d0-38aa-49bf-a54a-e75ea91d89d8",
   "metadata": {},
   "outputs": [],
   "source": [
    "# Shishir Khanal\n",
    "# 06-01-2025\n",
    "# Data analysis for Hi Satisfaction Related Patterns"
   ]
  },
  {
   "cell_type": "code",
   "execution_count": 1,
   "id": "33c1b91c-8c64-4f42-89d3-a7788bc7cc72",
   "metadata": {},
   "outputs": [
    {
     "name": "stdout",
     "output_type": "stream",
     "text": [
      "Path to dataset files: /home/shishir/.cache/kagglehub/datasets/rabieelkharoua/predict-restaurant-customer-satisfaction-dataset/versions/1\n"
     ]
    }
   ],
   "source": [
    "import kagglehub\n",
    "import pandas as pd\n",
    "import os\n",
    "\n",
    "# Download latest version (code obtained from: https://www.kaggle.com/datasets/rabieelkharoua/predict-restaurant-customer-satisfaction-dataset?resource=download)\n",
    "path = kagglehub.dataset_download(\"rabieelkharoua/predict-restaurant-customer-satisfaction-dataset\")\n",
    "print(\"Path to dataset files:\", path)\n",
    "\n",
    "full_path = os.path.join(path, \"restaurant_customer_satisfaction.csv\")\n",
    "df = pd.read_csv(full_path)"
   ]
  },
  {
   "cell_type": "code",
   "execution_count": 4,
   "id": "1bb330f5-f020-4be9-bc8e-a95a80aa5c11",
   "metadata": {},
   "outputs": [
    {
     "data": {
      "text/plain": [
       "HighSatisfaction\n",
       "0    86.6\n",
       "1    13.4\n",
       "Name: proportion, dtype: float64"
      ]
     },
     "execution_count": 4,
     "metadata": {},
     "output_type": "execute_result"
    }
   ],
   "source": [
    "#Percentage of customers that reported Highly satisfied\n",
    "df['HighSatisfaction'].value_counts(normalize = True) * 100"
   ]
  },
  {
   "cell_type": "code",
   "execution_count": 15,
   "id": "4c5d0ee0-ece0-4f64-82df-61b9354e4fb5",
   "metadata": {},
   "outputs": [
    {
     "name": "stdout",
     "output_type": "stream",
     "text": [
      "PreferredCuisine\n",
      "American    15.185185\n",
      "Chinese     13.548387\n",
      "Indian      14.527027\n",
      "Italian     12.307692\n",
      "Mexican     11.705686\n",
      "Name: mean, dtype: float64\n"
     ]
    }
   ],
   "source": [
    "#Among those that experienced High Satisfaction, Variation across cuisines\n",
    "cuisine_satisfaction = df.groupby('PreferredCuisine')['HighSatisfaction'].agg(['mean'])\n",
    "print(cuisine_satisfaction['mean'] * 100)"
   ]
  },
  {
   "cell_type": "code",
   "execution_count": 25,
   "id": "d06c8a9d-b1c1-46c6-88d5-1f25bd03b18e",
   "metadata": {},
   "outputs": [
    {
     "name": "stdout",
     "output_type": "stream",
     "text": [
      "\n",
      "Pearson Correlation (equivalent result):\n",
      "r = -0.144\n",
      "p-value = 0.000\n"
     ]
    }
   ],
   "source": [
    "#Wait Time and High Satisfaction\n",
    "from scipy.stats import pearsonr\n",
    "\n",
    "r_pearson, p_pearson = pearsonr(df['HighSatisfaction'], df['WaitTime'])\n",
    "print(f\"\\nPearson Correlation (equivalent result):\")\n",
    "print(f\"r = {r_pearson:.3f}\")\n",
    "print(f\"p-value = {p_pearson:.3f}\")"
   ]
  },
  {
   "cell_type": "code",
   "execution_count": 34,
   "id": "bcf824c4-8a3f-48fc-ab04-69624eab1b9a",
   "metadata": {},
   "outputs": [
    {
     "name": "stdout",
     "output_type": "stream",
     "text": [
      "HighSatisfaction     0    1   All\n",
      "DiningOccasion                   \n",
      "Business           453   47   500\n",
      "Casual             428   53   481\n",
      "Celebration        418  101   519\n",
      "All               1299  201  1500\n",
      "--------------------------------------------------------\n",
      "Chi-square statistic: 25.671\n",
      "p-value: 0.000\n",
      "Cramér's V: 0.131\n"
     ]
    }
   ],
   "source": [
    "#Dining Occasion and High High Satisfaction\n",
    "contingency_table = pd.crosstab(df['DiningOccasion'], df['HighSatisfaction'], margins=True)\n",
    "print(contingency_table)\n",
    "chi2, p_value, dof, expected = chi2_contingency(contingency_table.iloc[:-1, :-1])\n",
    "n = len(df)\n",
    "cramers_v = np.sqrt(chi2 / (n * (min(contingency_table.shape) - 2)))\n",
    "print('--------------------------------------------------------')\n",
    "\n",
    "print(f\"Chi-square statistic: {chi2:.3f}\")\n",
    "print(f\"p-value: {p_value:.3f}\")\n",
    "print(f\"Cramér's V: {cramers_v:.3f}\")"
   ]
  },
  {
   "cell_type": "code",
   "execution_count": 30,
   "id": "a54d1505-6483-4ff6-bc06-e78676d8e4a7",
   "metadata": {},
   "outputs": [
    {
     "data": {
      "text/plain": [
       "1500"
      ]
     },
     "execution_count": 30,
     "metadata": {},
     "output_type": "execute_result"
    }
   ],
   "source": [
    "contingency_table.iloc[-1, -1]"
   ]
  },
  {
   "cell_type": "code",
   "execution_count": 31,
   "id": "21cb6eab-06cb-45e2-9d5d-d3f6b93c29ed",
   "metadata": {},
   "outputs": [
    {
     "data": {
      "text/html": [
       "<div>\n",
       "<style scoped>\n",
       "    .dataframe tbody tr th:only-of-type {\n",
       "        vertical-align: middle;\n",
       "    }\n",
       "\n",
       "    .dataframe tbody tr th {\n",
       "        vertical-align: top;\n",
       "    }\n",
       "\n",
       "    .dataframe thead th {\n",
       "        text-align: right;\n",
       "    }\n",
       "</style>\n",
       "<table border=\"1\" class=\"dataframe\">\n",
       "  <thead>\n",
       "    <tr style=\"text-align: right;\">\n",
       "      <th>HighSatisfaction</th>\n",
       "      <th>0</th>\n",
       "      <th>1</th>\n",
       "    </tr>\n",
       "    <tr>\n",
       "      <th>DiningOccasion</th>\n",
       "      <th></th>\n",
       "      <th></th>\n",
       "    </tr>\n",
       "  </thead>\n",
       "  <tbody>\n",
       "    <tr>\n",
       "      <th>Business</th>\n",
       "      <td>453</td>\n",
       "      <td>47</td>\n",
       "    </tr>\n",
       "    <tr>\n",
       "      <th>Casual</th>\n",
       "      <td>428</td>\n",
       "      <td>53</td>\n",
       "    </tr>\n",
       "    <tr>\n",
       "      <th>Celebration</th>\n",
       "      <td>418</td>\n",
       "      <td>101</td>\n",
       "    </tr>\n",
       "  </tbody>\n",
       "</table>\n",
       "</div>"
      ],
      "text/plain": [
       "HighSatisfaction    0    1\n",
       "DiningOccasion            \n",
       "Business          453   47\n",
       "Casual            428   53\n",
       "Celebration       418  101"
      ]
     },
     "execution_count": 31,
     "metadata": {},
     "output_type": "execute_result"
    }
   ],
   "source": [
    "contingency_table.iloc[:-1, :-1]"
   ]
  },
  {
   "cell_type": "code",
   "execution_count": null,
   "id": "a3e645b1-ccb1-4ed4-844e-c7d6814b0263",
   "metadata": {},
   "outputs": [],
   "source": []
  }
 ],
 "metadata": {
  "kernelspec": {
   "display_name": "Python [conda env:base] *",
   "language": "python",
   "name": "conda-base-py"
  },
  "language_info": {
   "codemirror_mode": {
    "name": "ipython",
    "version": 3
   },
   "file_extension": ".py",
   "mimetype": "text/x-python",
   "name": "python",
   "nbconvert_exporter": "python",
   "pygments_lexer": "ipython3",
   "version": "3.12.7"
  }
 },
 "nbformat": 4,
 "nbformat_minor": 5
}
