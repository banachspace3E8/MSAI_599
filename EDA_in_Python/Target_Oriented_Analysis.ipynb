{
 "cells": [
  {
   "cell_type": "code",
   "execution_count": null,
   "id": "8101e5d0-38aa-49bf-a54a-e75ea91d89d8",
   "metadata": {},
   "outputs": [],
   "source": [
    "# Shishir Khanal\n",
    "# 06-01-2025\n",
    "# Data analysis for Hi Satisfaction Related Patterns"
   ]
  },
  {
   "cell_type": "code",
   "execution_count": 1,
   "id": "33c1b91c-8c64-4f42-89d3-a7788bc7cc72",
   "metadata": {},
   "outputs": [
    {
     "name": "stdout",
     "output_type": "stream",
     "text": [
      "Path to dataset files: /home/shishir/.cache/kagglehub/datasets/rabieelkharoua/predict-restaurant-customer-satisfaction-dataset/versions/1\n"
     ]
    }
   ],
   "source": [
    "import kagglehub\n",
    "import pandas as pd\n",
    "import os\n",
    "\n",
    "# Download latest version (code obtained from: https://www.kaggle.com/datasets/rabieelkharoua/predict-restaurant-customer-satisfaction-dataset?resource=download)\n",
    "path = kagglehub.dataset_download(\"rabieelkharoua/predict-restaurant-customer-satisfaction-dataset\")\n",
    "print(\"Path to dataset files:\", path)\n",
    "\n",
    "full_path = os.path.join(path, \"restaurant_customer_satisfaction.csv\")\n",
    "df = pd.read_csv(full_path)"
   ]
  },
  {
   "cell_type": "code",
   "execution_count": 4,
   "id": "1bb330f5-f020-4be9-bc8e-a95a80aa5c11",
   "metadata": {},
   "outputs": [
    {
     "data": {
      "text/plain": [
       "HighSatisfaction\n",
       "0    86.6\n",
       "1    13.4\n",
       "Name: proportion, dtype: float64"
      ]
     },
     "execution_count": 4,
     "metadata": {},
     "output_type": "execute_result"
    }
   ],
   "source": [
    "#Percentage of customers that reported Highly satisfied\n",
    "df['HighSatisfaction'].value_counts(normalize = True) * 100"
   ]
  },
  {
   "cell_type": "code",
   "execution_count": 15,
   "id": "4c5d0ee0-ece0-4f64-82df-61b9354e4fb5",
   "metadata": {},
   "outputs": [
    {
     "name": "stdout",
     "output_type": "stream",
     "text": [
      "PreferredCuisine\n",
      "American    15.185185\n",
      "Chinese     13.548387\n",
      "Indian      14.527027\n",
      "Italian     12.307692\n",
      "Mexican     11.705686\n",
      "Name: mean, dtype: float64\n"
     ]
    }
   ],
   "source": [
    "#Among those that experienced High Satisfaction, Variation across cuisines\n",
    "cuisine_satisfaction = df.groupby('PreferredCuisine')['HighSatisfaction'].agg(['mean'])\n",
    "print(cuisine_satisfaction['mean'] * 100)"
   ]
  },
  {
   "cell_type": "code",
   "execution_count": 25,
   "id": "d06c8a9d-b1c1-46c6-88d5-1f25bd03b18e",
   "metadata": {},
   "outputs": [
    {
     "name": "stdout",
     "output_type": "stream",
     "text": [
      "\n",
      "Pearson Correlation (equivalent result):\n",
      "r = -0.144\n",
      "p-value = 0.000\n"
     ]
    }
   ],
   "source": [
    "#Wait Time and High Satisfaction\n",
    "from scipy.stats import pearsonr\n",
    "\n",
    "r_pearson, p_pearson = pearsonr(df['HighSatisfaction'], df['WaitTime'])\n",
    "print(f\"\\nPearson Correlation (equivalent result):\")\n",
    "print(f\"r = {r_pearson:.3f}\")\n",
    "print(f\"p-value = {p_pearson:.3f}\")"
   ]
  },
  {
   "cell_type": "code",
   "execution_count": 36,
   "id": "bcf824c4-8a3f-48fc-ab04-69624eab1b9a",
   "metadata": {},
   "outputs": [
    {
     "name": "stdout",
     "output_type": "stream",
     "text": [
      "HighSatisfaction     0    1   All\n",
      "DiningOccasion                   \n",
      "Business           453   47   500\n",
      "Casual             428   53   481\n",
      "Celebration        418  101   519\n",
      "All               1299  201  1500\n",
      "--------------------------------------------------------\n",
      "Chi-square statistic: 25.671\n",
      "p-value: 0.000\n",
      "Cramér's V: 0.131\n"
     ]
    }
   ],
   "source": [
    "#Dining Occasion and High High Satisfaction\n",
    "contingency_table = pd.crosstab(df['DiningOccasion'], df['HighSatisfaction'], margins=True)\n",
    "print(contingency_table)\n",
    "chi2, p_value, dof, expected = chi2_contingency(contingency_table.iloc[:-1, :-1])\n",
    "n = len(df)\n",
    "cramers_v = np.sqrt(chi2 / (n * (min(contingency_table.shape) - 2)))\n",
    "print('--------------------------------------------------------')\n",
    "\n",
    "print(f\"Chi-square statistic: {chi2:.3f}\")\n",
    "print(f\"p-value: {p_value:.3f}\")\n",
    "print(f\"Cramér's V: {cramers_v:.3f}\")"
   ]
  },
  {
   "cell_type": "code",
   "execution_count": 39,
   "id": "01186aa9-14a8-44ae-9aeb-f8792bf7af20",
   "metadata": {},
   "outputs": [
    {
     "name": "stdout",
     "output_type": "stream",
     "text": [
      "DiningOccasion\n",
      "Business        9.400000\n",
      "Casual         11.018711\n",
      "Celebration    19.460501\n",
      "Name: mean, dtype: float64\n"
     ]
    }
   ],
   "source": [
    "cuisine_satisfaction = df.groupby('DiningOccasion')['HighSatisfaction'].agg(['mean'])\n",
    "print(cuisine_satisfaction['mean'] * 100)"
   ]
  },
  {
   "cell_type": "code",
   "execution_count": null,
   "id": "3eb92a61-fee4-4f67-aa11-6a0d797656d8",
   "metadata": {},
   "outputs": [],
   "source": []
  }
 ],
 "metadata": {
  "kernelspec": {
   "display_name": "Python [conda env:base] *",
   "language": "python",
   "name": "conda-base-py"
  },
  "language_info": {
   "codemirror_mode": {
    "name": "ipython",
    "version": 3
   },
   "file_extension": ".py",
   "mimetype": "text/x-python",
   "name": "python",
   "nbconvert_exporter": "python",
   "pygments_lexer": "ipython3",
   "version": "3.12.7"
  }
 },
 "nbformat": 4,
 "nbformat_minor": 5
}
