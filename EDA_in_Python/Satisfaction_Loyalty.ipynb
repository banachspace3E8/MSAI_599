{
 "cells": [
  {
   "cell_type": "code",
   "execution_count": 1,
   "id": "8ad8c964-da9d-4fc6-810e-68d5908faf29",
   "metadata": {},
   "outputs": [],
   "source": [
    "# Shishir Khanal\n",
    "# 06-01-2025\n",
    "# Data analysis for Satisfaction and Loyalty Patterns"
   ]
  },
  {
   "cell_type": "code",
   "execution_count": 2,
   "id": "33daf38f-c659-4329-85a2-86b6825bc9a6",
   "metadata": {},
   "outputs": [
    {
     "name": "stdout",
     "output_type": "stream",
     "text": [
      "Path to dataset files: /home/shishir/.cache/kagglehub/datasets/rabieelkharoua/predict-restaurant-customer-satisfaction-dataset/versions/1\n"
     ]
    }
   ],
   "source": [
    "import kagglehub\n",
    "import pandas as pd\n",
    "import os\n",
    "\n",
    "# Download latest version (code obtained from: https://www.kaggle.com/datasets/rabieelkharoua/predict-restaurant-customer-satisfaction-dataset?resource=download)\n",
    "path = kagglehub.dataset_download(\"rabieelkharoua/predict-restaurant-customer-satisfaction-dataset\")\n",
    "print(\"Path to dataset files:\", path)\n",
    "\n",
    "full_path = os.path.join(path, \"restaurant_customer_satisfaction.csv\")\n",
    "df = pd.read_csv(full_path)"
   ]
  },
  {
   "cell_type": "code",
   "execution_count": 4,
   "id": "0b88a84b-eaa8-40b5-9e1f-a274e10045c1",
   "metadata": {},
   "outputs": [
    {
     "name": "stdout",
     "output_type": "stream",
     "text": [
      "LoyaltyProgramMember    0    1\n",
      "HighSatisfaction              \n",
      "0                     717  582\n",
      "1                      63  138\n",
      "Chi-square statistic: 38.728687718510535\n",
      "P-value: 4.869986275017778e-10\n",
      "Dof: 1\n",
      "Effect size: 0.16068330699134148\n"
     ]
    }
   ],
   "source": [
    "#Comparison of High Satisfaction and Loyalty ProgramMember\n",
    "\n",
    "from scipy.stats import chi2_contingency\n",
    "import numpy as np\n",
    "\n",
    "crosstab = pd.crosstab(df['HighSatisfaction'], df['LoyaltyProgramMember'])\n",
    "print(crosstab)\n",
    "\n",
    "chi2, p_value, dof, expected = chi2_contingency(crosstab)\n",
    "\n",
    "n = len(df)\n",
    "rows, cols = crosstab.shape\n",
    "#Cramers V\n",
    "effect_size = np.sqrt(chi2 / (n * min(rows-1, cols-1)))\n",
    "\n",
    "print(f\"Chi-square statistic: {chi2}\")\n",
    "print(f\"P-value: {p_value}\")\n",
    "print(f\"Dof: {dof}\")\n",
    "print(f\"Effect size: {effect_size}\")"
   ]
  },
  {
   "cell_type": "code",
   "execution_count": 14,
   "id": "736c8f07-805c-4279-9bc9-d3895de04a51",
   "metadata": {},
   "outputs": [
    {
     "name": "stdout",
     "output_type": "stream",
     "text": [
      "LoyaltyProgramMember    0    1\n",
      "OnlineReservation             \n",
      "0                     556  499\n",
      "1                     224  221\n",
      "Chi-square statistic online: 0.6094420117397907\n",
      "P-value online: 0.4349979799524174\n",
      "Dof online: 1\n",
      "Effect size online: 0.02015675257806162\n",
      "------------------------------------------------\n",
      "LoyaltyProgramMember    0    1\n",
      "DeliveryOrder                 \n",
      "0                     465  427\n",
      "1                     315  293\n",
      "Chi-square statistic delivery: 0.004826875703509743\n",
      "P-value delivery: 0.9446109583828648\n",
      "Dof delivery: 1\n",
      "Effect size delivery: 0.0017938553831547187\n"
     ]
    }
   ],
   "source": [
    "#Comparison of Loyalty, Online Reservation and Dine In\n",
    "\n",
    "from scipy.stats import chi2_contingency\n",
    "import numpy as np\n",
    "\n",
    "crosstab_online = pd.crosstab(df['OnlineReservation'], df['LoyaltyProgramMember'])\n",
    "print(crosstab_online)\n",
    "\n",
    "chi2_online , p_value_online , dof_online , expected_online  = chi2_contingency(crosstab_online)\n",
    "\n",
    "n = len(df)\n",
    "rows_online, cols_online = crosstab_online.shape\n",
    "#Cramers V\n",
    "effect_size_online = np.sqrt(chi2_online / (n * min(rows_online-1, cols_online-1)))\n",
    "\n",
    "print(f\"Chi-square statistic online: {chi2_online}\")\n",
    "print(f\"P-value online: {p_value_online}\")\n",
    "print(f\"Dof online: {dof_online}\")\n",
    "print(f\"Effect size online: {effect_size_online}\")\n",
    "print('------------------------------------------------')\n",
    "crosstab_delivery = pd.crosstab(df['DeliveryOrder'], df['LoyaltyProgramMember'])\n",
    "print(crosstab_delivery)\n",
    "\n",
    "chi2_delivery, p_value_delivery, dof_delivery, expected_delivery = chi2_contingency(crosstab_delivery)\n",
    "\n",
    "rows_delivery, cols_delivery = crosstab_delivery.shape\n",
    "#Cramers V\n",
    "effect_size_delivery = np.sqrt(chi2_delivery / (n * min(rows_delivery-1, cols_delivery-1)))\n",
    "\n",
    "print(f\"Chi-square statistic delivery: {chi2_delivery}\")\n",
    "print(f\"P-value delivery: {p_value_delivery}\")\n",
    "print(f\"Dof delivery: {dof_delivery}\")\n",
    "print(f\"Effect size delivery: {effect_size_delivery}\")"
   ]
  },
  {
   "cell_type": "code",
   "execution_count": 50,
   "id": "9e52c0ad-8b4a-48cc-9426-f493e81bdf02",
   "metadata": {},
   "outputs": [
    {
     "name": "stdout",
     "output_type": "stream",
     "text": [
      "High Satisfaction compared with Gender\n",
      "Gender\n",
      "Male      13.6\n",
      "Female    13.2\n",
      "Name: 1, dtype: float64\n",
      "Chi-square: 0.000, p-value: 1.000000, Cramér's V: 0.000\n",
      "-----------------------------------------------------------------\n",
      "High Satisfaction compared with VisitFrequency\n",
      "VisitFrequency\n",
      "Weekly     20.5\n",
      "Daily      15.0\n",
      "Monthly     7.9\n",
      "Rarely      6.4\n",
      "Name: 1, dtype: float64\n",
      "Chi-square: 11.728, p-value: 0.008377, Cramér's V: 0.088\n",
      "-----------------------------------------------------------------\n",
      "High Satisfaction compared with PreferredCuisine\n",
      "PreferredCuisine\n",
      "American    15.2\n",
      "Indian      14.5\n",
      "Chinese     13.5\n",
      "Italian     12.3\n",
      "Mexican     11.7\n",
      "Name: 1, dtype: float64\n",
      "Chi-square: 0.732, p-value: 0.947279, Cramér's V: 0.022\n",
      "-----------------------------------------------------------------\n",
      "High Satisfaction compared with TimeOfVisit\n",
      "TimeOfVisit\n",
      "Breakfast    14.2\n",
      "Dinner       13.6\n",
      "Lunch        12.4\n",
      "Name: 1, dtype: float64\n",
      "Chi-square: 0.158, p-value: 0.923922, Cramér's V: 0.010\n",
      "-----------------------------------------------------------------\n",
      "High Satisfaction compared with DiningOccasion\n",
      "DiningOccasion\n",
      "Celebration    19.5\n",
      "Casual         11.0\n",
      "Business        9.4\n",
      "Name: 1, dtype: float64\n",
      "Chi-square: 5.064, p-value: 0.079506, Cramér's V: 0.058\n",
      "-----------------------------------------------------------------\n",
      "High Satisfaction compared with MealType\n",
      "MealType\n",
      "Dine-in     18.4\n",
      "Takeaway     8.4\n",
      "Name: 1, dtype: float64\n",
      "Chi-square: 3.464, p-value: 0.062724, Cramér's V: 0.048\n",
      "-----------------------------------------------------------------\n",
      "High Satisfaction compared with OnlineReservation\n",
      "OnlineReservation\n",
      "1    23.6\n",
      "0     9.1\n",
      "Name: 1, dtype: float64\n",
      "Chi-square: 6.660, p-value: 0.009862, Cramér's V: 0.067\n",
      "-----------------------------------------------------------------\n",
      "High Satisfaction compared with DeliveryOrder\n",
      "DeliveryOrder\n",
      "1    20.2\n",
      "0     8.7\n",
      "Name: 1, dtype: float64\n",
      "Chi-square: 4.438, p-value: 0.035153, Cramér's V: 0.054\n",
      "-----------------------------------------------------------------\n",
      "High Satisfaction compared with LoyaltyProgramMember\n",
      "LoyaltyProgramMember\n",
      "1    19.2\n",
      "0     8.1\n",
      "Name: 1, dtype: float64\n",
      "Chi-square: 4.326, p-value: 0.037533, Cramér's V: 0.054\n",
      "-----------------------------------------------------------------\n"
     ]
    }
   ],
   "source": [
    "#What categrorical variable relates to high satisfaction\n",
    "\n",
    "categorical_vars = ['Gender', 'VisitFrequency', 'PreferredCuisine', 'TimeOfVisit', 'DiningOccasion', 'MealType', 'OnlineReservation', 'DeliveryOrder', 'LoyaltyProgramMember']\n",
    "\n",
    "for var in categorical_vars:\n",
    "    print(f\"High Satisfaction compared with {var}\")\n",
    "    crosstab = pd.crosstab(df[var], df['HighSatisfaction'], normalize='index') * 100\n",
    "    #print(crosstab)\n",
    "    high_satisfaction_percent = crosstab[1].round(1)\n",
    "    print(high_satisfaction_percent.sort_values(ascending=False))\n",
    "    n = len(df)\n",
    "    chi2, p_val, dof, expected = chi2_contingency(crosstab)\n",
    "    cramers_v = np.sqrt(chi2 / (n * (min(crosstab.shape) - 1)))\n",
    "    print(f\"Chi-square: {chi2:.3f}, p-value: {p_val:.6f}, Cramér's V: {cramers_v:.3f}\")\n",
    "    print('-----------------------------------------------------------------')"
   ]
  },
  {
   "cell_type": "code",
   "execution_count": 49,
   "id": "da8fb0ae-ecd6-4e14-8be2-5cc824d3ca36",
   "metadata": {},
   "outputs": [
    {
     "name": "stdout",
     "output_type": "stream",
     "text": [
      "High Satisfaction compared with Age\n",
      "High Satisfaction: Mean - 45.18, Median - 46.00\n",
      "Low Satisfaction: Mean - 43.62, Median - 44.00\n",
      "Difference in Means: 1.56\n",
      "Pearson Correlation corr:0.03554685764532872 p-value: 0.1688182196902083\n",
      "Spearman Correlation corr:0.03577947813033441 p-value: 0.16604590396489674\n",
      "-----------------------------------------------------------------\n",
      "High Satisfaction compared with Income\n",
      "High Satisfaction: Mean - 93869.66, Median - 98241.00\n",
      "Low Satisfaction: Mean - 84692.10, Median - 84302.00\n",
      "Difference in Means: 9177.57\n",
      "Pearson Correlation corr:0.08190549007587944 p-value: 0.0014990007165250152\n",
      "Spearman Correlation corr:0.08053417043518271 p-value: 0.0017990409886813876\n",
      "-----------------------------------------------------------------\n",
      "High Satisfaction compared with AverageSpend\n",
      "High Satisfaction: Mean - 112.68, Median - 109.81\n",
      "Low Satisfaction: Mean - 104.57, Median - 103.59\n",
      "Difference in Means: 8.10\n",
      "Pearson Correlation corr:0.05271609829509082 p-value: 0.04121077273308474\n",
      "Spearman Correlation corr:0.05081123518998089 p-value: 0.04912086353780263\n",
      "-----------------------------------------------------------------\n",
      "High Satisfaction compared with GroupSize\n",
      "High Satisfaction: Mean - 4.49, Median - 4.00\n",
      "Low Satisfaction: Mean - 5.12, Median - 5.00\n",
      "Difference in Means: -0.63\n",
      "Pearson Correlation corr:-0.08423455079354153 p-value: 0.0010928053927943763\n",
      "Spearman Correlation corr:-0.08410923490430719 p-value: 0.0011117678059702923\n",
      "-----------------------------------------------------------------\n",
      "High Satisfaction compared with WaitTime\n",
      "High Satisfaction: Mean - 23.87, Median - 20.14\n",
      "Low Satisfaction: Mean - 31.14, Median - 31.70\n",
      "Difference in Means: -7.27\n",
      "Pearson Correlation corr:-0.14393894365840088 p-value: 2.1526282898966365e-08\n",
      "Spearman Correlation corr:-0.14376969508658097 p-value: 2.2367921715568984e-08\n",
      "-----------------------------------------------------------------\n",
      "High Satisfaction compared with ServiceRating\n",
      "High Satisfaction: Mean - 3.37, Median - 4.00\n",
      "Low Satisfaction: Mean - 2.99, Median - 3.00\n",
      "Difference in Means: 0.37\n",
      "Pearson Correlation corr:0.08961241470103337 p-value: 0.0005112852415189077\n",
      "Spearman Correlation corr:0.08984239038997484 p-value: 0.0004944837232916141\n",
      "-----------------------------------------------------------------\n",
      "High Satisfaction compared with FoodRating\n",
      "High Satisfaction: Mean - 3.50, Median - 4.00\n",
      "Low Satisfaction: Mean - 2.92, Median - 3.00\n",
      "Difference in Means: 0.58\n",
      "Pearson Correlation corr:0.1387093629361238 p-value: 6.898102491803643e-08\n",
      "Spearman Correlation corr:0.1396581370574036 p-value: 5.601924407683551e-08\n",
      "-----------------------------------------------------------------\n",
      "High Satisfaction compared with AmbianceRating\n",
      "High Satisfaction: Mean - 3.27, Median - 4.00\n",
      "Low Satisfaction: Mean - 2.94, Median - 3.00\n",
      "Difference in Means: 0.33\n",
      "Pearson Correlation corr:0.0776560059182577 p-value: 0.002615553377642171\n",
      "Spearman Correlation corr:0.07636396463881596 p-value: 0.003082186319241557\n",
      "-----------------------------------------------------------------\n"
     ]
    }
   ],
   "source": [
    "#What numerical variable relates to high satisfaction\n",
    "from scipy.stats import pearsonr, spearmanr\n",
    "\n",
    "numerical_vars = ['Age', 'Income', 'AverageSpend', 'GroupSize', 'WaitTime', 'ServiceRating', 'FoodRating', 'AmbianceRating']\n",
    "for var in numerical_vars:\n",
    "    print(f\"High Satisfaction compared with {var}\")\n",
    "    high_sat = df[df['HighSatisfaction'] == 1][var]\n",
    "    low_sat = df[df['HighSatisfaction'] == 0][var]\n",
    "    print(f\"High Satisfaction: Mean - {high_sat.mean():.2f}, Median - {high_sat.median():.2f}\")\n",
    "    print(f\"Low Satisfaction: Mean - {low_sat.mean():.2f}, Median - {low_sat.median():.2f}\")\n",
    "    print(f\"Difference in Means: {high_sat.mean() - low_sat.mean():.2f}\")\n",
    "    # Pearson correlation\n",
    "    corr_pearson, p_pearson = pearsonr(df[var], df['HighSatisfaction'])           \n",
    "    # Spearman correlation (better for ordinal/non-normal data)\n",
    "    corr_spearman, p_spearman = spearmanr(df[var], df['HighSatisfaction'])\n",
    "    \n",
    "    print(f\"Pearson Correlation corr:{corr_pearson} p-value: {p_pearson}\")\n",
    "    print(f\"Spearman Correlation corr:{corr_spearman} p-value: {p_spearman}\")\n",
    "    print('-----------------------------------------------------------------')"
   ]
  },
  {
   "cell_type": "code",
   "execution_count": 67,
   "id": "ef7ddee2-94d9-4ed3-af08-8a3d7ebe4706",
   "metadata": {
    "scrolled": true
   },
   "outputs": [
    {
     "name": "stdout",
     "output_type": "stream",
     "text": [
      "P value ServiceRating and FoodRating is 0.8577870581547353\n",
      "P value ServiceRating and AmbianceRating is 0.908343998661953\n",
      "------------------------------------------------------\n",
      "             Spearman Correlation Matrix\n"
     ]
    },
    {
     "data": {
      "image/png": "[encoded data removed]",
      "text/plain": [
       "<Figure size 640x480 with 2 Axes>"
      ]
     },
     "metadata": {},
     "output_type": "display_data"
    }
   ],
   "source": [
    "#Correlation between ratings data\n",
    "import seaborn as sns\n",
    "\n",
    "vars = ['ServiceRating', 'FoodRating', 'AmbianceRating']\n",
    "spearman_corr = df[vars].corr(method='spearman')\n",
    "\n",
    "sns.heatmap(spearman_corr, annot=True, cmap='coolwarm', center=0,\n",
    "            square=True, fmt='.3f')\n",
    "\n",
    "spearman_r1, spearman_p1 = spearmanr(df[vars[0]], df[vars[1]])\n",
    "spearman_r2, spearman_p2 = spearmanr(df[vars[0]], df[vars[2]])\n",
    "print(f\"P value {vars[0]} and {vars[1]} is {spearman_p1}\")\n",
    "print(f\"P value {vars[0]} and {vars[2]} is {spearman_p2}\")\n",
    "print('------------------------------------------------------')\n",
    "print('             Spearman Correlation Matrix')\n"
   ]
  },
  {
   "cell_type": "code",
   "execution_count": null,
   "id": "072ef15f-fa63-4fe7-bf82-0998a2b25a9e",
   "metadata": {},
   "outputs": [],
   "source": []
  }
 ],
 "metadata": {
  "kernelspec": {
   "display_name": "Python [conda env:base] *",
   "language": "python",
   "name": "conda-base-py"
  },
  "language_info": {
   "codemirror_mode": {
    "name": "ipython",
    "version": 3
   },
   "file_extension": ".py",
   "mimetype": "text/x-python",
   "name": "python",
   "nbconvert_exporter": "python",
   "pygments_lexer": "ipython3",
   "version": "3.12.7"
  }
 },
 "nbformat": 4,
 "nbformat_minor": 5
}
